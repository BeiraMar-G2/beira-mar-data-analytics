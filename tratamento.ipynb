{
 "cells": [
  {
   "cell_type": "code",
   "execution_count": 1,
   "id": "c7e5d637",
   "metadata": {},
   "outputs": [],
   "source": [
    "import pandas as pd\n",
    "import unicodedata"
   ]
  },
  {
   "cell_type": "markdown",
   "id": "a9ca4bac",
   "metadata": {},
   "source": [
    "### Sumário de padrões para tratamento de dados:\n",
    "\n",
    "- Data: DD/MM/YYYY\n",
    "\n",
    "- Data hora: DD/MM/YYYY HH:MM:SS\n",
    "\n",
    "- Binário: 0 ou 1\n",
    "\n",
    "- Strings e colunas: Maiusculas e com acento: \n",
    "\n",
    "- Espaços: Manter apenas um espaço no intervalo entre palavras\n",
    "\n",
    "- Sexo: M e F\n",
    "\n",
    "- Delimitador: Vírgula\n"
   ]
  },
  {
   "cell_type": "markdown",
   "id": "943c612e",
   "metadata": {},
   "source": [
    "### Funções para padronização:"
   ]
  },
  {
   "cell_type": "code",
   "execution_count": 2,
   "id": "c2eb4b42",
   "metadata": {},
   "outputs": [],
   "source": [
    "def padronizar_data_hora(df, coluna):\n",
    "\n",
    "  df[coluna] = pd.to_datetime(df[coluna])\n",
    "  \n",
    "  df[coluna] = df[coluna].dt.strftime('%d/%m/%Y %H:%M:%S')\n",
    "  \n",
    "  return df\n"
   ]
  },
  {
   "cell_type": "code",
   "execution_count": 11,
   "id": "d311cf12",
   "metadata": {},
   "outputs": [],
   "source": [
    "def padronizar_colunas(df):\n",
    "\n",
    "    df.columns = df.columns.str.upper()\n",
    "    \n",
    "    return df"
   ]
  },
  {
   "cell_type": "code",
   "execution_count": 14,
   "id": "fe48748d",
   "metadata": {},
   "outputs": [],
   "source": [
    "def converter_para_binario(df, coluna):\n",
    "    mapeamento = {'Yes': 1, 'No': 0}\n",
    "    df[coluna].replace(mapeamento, inplace=True)\n",
    "    return df"
   ]
  },
  {
   "cell_type": "code",
   "execution_count": 17,
   "id": "561dbed7",
   "metadata": {},
   "outputs": [],
   "source": [
    "def remover_acentos(df, coluna):\n",
    "    df[coluna] = df[coluna].str.normalize('NFKD').str.encode('ascii', errors='ignore').str.decode('utf-8')\n",
    "    return df\n"
   ]
  },
  {
   "cell_type": "code",
   "execution_count": 25,
   "id": "3daae651",
   "metadata": {},
   "outputs": [
    {
     "data": {
      "application/vnd.microsoft.datawrangler.viewer.v0+json": {
       "columns": [
        {
         "name": "index",
         "rawType": "int64",
         "type": "integer"
        },
        {
         "name": "PATIENTID",
         "rawType": "float64",
         "type": "float"
        },
        {
         "name": "APPOINTMENTID",
         "rawType": "int64",
         "type": "integer"
        },
        {
         "name": "GENDER",
         "rawType": "object",
         "type": "string"
        },
        {
         "name": "SCHEDULEDDAY",
         "rawType": "object",
         "type": "string"
        },
        {
         "name": "APPOINTMENTDAY",
         "rawType": "object",
         "type": "string"
        },
        {
         "name": "AGE",
         "rawType": "int64",
         "type": "integer"
        },
        {
         "name": "NEIGHBOURHOOD",
         "rawType": "object",
         "type": "string"
        },
        {
         "name": "SCHOLARSHIP",
         "rawType": "int64",
         "type": "integer"
        },
        {
         "name": "HIPERTENSION",
         "rawType": "int64",
         "type": "integer"
        },
        {
         "name": "DIABETES",
         "rawType": "int64",
         "type": "integer"
        },
        {
         "name": "ALCOHOLISM",
         "rawType": "int64",
         "type": "integer"
        },
        {
         "name": "HANDCAP",
         "rawType": "int64",
         "type": "integer"
        },
        {
         "name": "SMS_RECEIVED",
         "rawType": "int64",
         "type": "integer"
        },
        {
         "name": "NO-SHOW",
         "rawType": "int64",
         "type": "integer"
        }
       ],
       "ref": "9cbe4895-bd4d-40e4-89c0-0c06a3f6d554",
       "rows": [
        [
         "0",
         "29872499824296.0",
         "5642903",
         "F",
         "29/04/2016 18:38:08",
         "29/04/2016 00:00:00",
         "62",
         "JARDIM DA PENHA",
         "0",
         "1",
         "0",
         "0",
         "0",
         "0",
         "0"
        ],
        [
         "1",
         "558997776694438.0",
         "5642503",
         "M",
         "29/04/2016 16:08:27",
         "29/04/2016 00:00:00",
         "56",
         "JARDIM DA PENHA",
         "0",
         "0",
         "0",
         "0",
         "0",
         "0",
         "0"
        ],
        [
         "2",
         "4262962299951.0",
         "5642549",
         "F",
         "29/04/2016 16:19:04",
         "29/04/2016 00:00:00",
         "62",
         "MATA DA PRAIA",
         "0",
         "0",
         "0",
         "0",
         "0",
         "0",
         "0"
        ],
        [
         "3",
         "867951213174.0",
         "5642828",
         "F",
         "29/04/2016 17:29:31",
         "29/04/2016 00:00:00",
         "8",
         "PONTAL DE CAMBURI",
         "0",
         "0",
         "0",
         "0",
         "0",
         "0",
         "0"
        ],
        [
         "4",
         "8841186448183.0",
         "5642494",
         "F",
         "29/04/2016 16:07:23",
         "29/04/2016 00:00:00",
         "56",
         "JARDIM DA PENHA",
         "0",
         "1",
         "1",
         "0",
         "0",
         "0",
         "0"
        ]
       ],
       "shape": {
        "columns": 14,
        "rows": 5
       }
      },
      "text/html": [
       "<div>\n",
       "<style scoped>\n",
       "    .dataframe tbody tr th:only-of-type {\n",
       "        vertical-align: middle;\n",
       "    }\n",
       "\n",
       "    .dataframe tbody tr th {\n",
       "        vertical-align: top;\n",
       "    }\n",
       "\n",
       "    .dataframe thead th {\n",
       "        text-align: right;\n",
       "    }\n",
       "</style>\n",
       "<table border=\"1\" class=\"dataframe\">\n",
       "  <thead>\n",
       "    <tr style=\"text-align: right;\">\n",
       "      <th></th>\n",
       "      <th>PATIENTID</th>\n",
       "      <th>APPOINTMENTID</th>\n",
       "      <th>GENDER</th>\n",
       "      <th>SCHEDULEDDAY</th>\n",
       "      <th>APPOINTMENTDAY</th>\n",
       "      <th>AGE</th>\n",
       "      <th>NEIGHBOURHOOD</th>\n",
       "      <th>SCHOLARSHIP</th>\n",
       "      <th>HIPERTENSION</th>\n",
       "      <th>DIABETES</th>\n",
       "      <th>ALCOHOLISM</th>\n",
       "      <th>HANDCAP</th>\n",
       "      <th>SMS_RECEIVED</th>\n",
       "      <th>NO-SHOW</th>\n",
       "    </tr>\n",
       "  </thead>\n",
       "  <tbody>\n",
       "    <tr>\n",
       "      <th>0</th>\n",
       "      <td>2.987250e+13</td>\n",
       "      <td>5642903</td>\n",
       "      <td>F</td>\n",
       "      <td>29/04/2016 18:38:08</td>\n",
       "      <td>29/04/2016 00:00:00</td>\n",
       "      <td>62</td>\n",
       "      <td>JARDIM DA PENHA</td>\n",
       "      <td>0</td>\n",
       "      <td>1</td>\n",
       "      <td>0</td>\n",
       "      <td>0</td>\n",
       "      <td>0</td>\n",
       "      <td>0</td>\n",
       "      <td>0</td>\n",
       "    </tr>\n",
       "    <tr>\n",
       "      <th>1</th>\n",
       "      <td>5.589978e+14</td>\n",
       "      <td>5642503</td>\n",
       "      <td>M</td>\n",
       "      <td>29/04/2016 16:08:27</td>\n",
       "      <td>29/04/2016 00:00:00</td>\n",
       "      <td>56</td>\n",
       "      <td>JARDIM DA PENHA</td>\n",
       "      <td>0</td>\n",
       "      <td>0</td>\n",
       "      <td>0</td>\n",
       "      <td>0</td>\n",
       "      <td>0</td>\n",
       "      <td>0</td>\n",
       "      <td>0</td>\n",
       "    </tr>\n",
       "    <tr>\n",
       "      <th>2</th>\n",
       "      <td>4.262962e+12</td>\n",
       "      <td>5642549</td>\n",
       "      <td>F</td>\n",
       "      <td>29/04/2016 16:19:04</td>\n",
       "      <td>29/04/2016 00:00:00</td>\n",
       "      <td>62</td>\n",
       "      <td>MATA DA PRAIA</td>\n",
       "      <td>0</td>\n",
       "      <td>0</td>\n",
       "      <td>0</td>\n",
       "      <td>0</td>\n",
       "      <td>0</td>\n",
       "      <td>0</td>\n",
       "      <td>0</td>\n",
       "    </tr>\n",
       "    <tr>\n",
       "      <th>3</th>\n",
       "      <td>8.679512e+11</td>\n",
       "      <td>5642828</td>\n",
       "      <td>F</td>\n",
       "      <td>29/04/2016 17:29:31</td>\n",
       "      <td>29/04/2016 00:00:00</td>\n",
       "      <td>8</td>\n",
       "      <td>PONTAL DE CAMBURI</td>\n",
       "      <td>0</td>\n",
       "      <td>0</td>\n",
       "      <td>0</td>\n",
       "      <td>0</td>\n",
       "      <td>0</td>\n",
       "      <td>0</td>\n",
       "      <td>0</td>\n",
       "    </tr>\n",
       "    <tr>\n",
       "      <th>4</th>\n",
       "      <td>8.841186e+12</td>\n",
       "      <td>5642494</td>\n",
       "      <td>F</td>\n",
       "      <td>29/04/2016 16:07:23</td>\n",
       "      <td>29/04/2016 00:00:00</td>\n",
       "      <td>56</td>\n",
       "      <td>JARDIM DA PENHA</td>\n",
       "      <td>0</td>\n",
       "      <td>1</td>\n",
       "      <td>1</td>\n",
       "      <td>0</td>\n",
       "      <td>0</td>\n",
       "      <td>0</td>\n",
       "      <td>0</td>\n",
       "    </tr>\n",
       "  </tbody>\n",
       "</table>\n",
       "</div>"
      ],
      "text/plain": [
       "      PATIENTID  APPOINTMENTID GENDER         SCHEDULEDDAY  \\\n",
       "0  2.987250e+13        5642903      F  29/04/2016 18:38:08   \n",
       "1  5.589978e+14        5642503      M  29/04/2016 16:08:27   \n",
       "2  4.262962e+12        5642549      F  29/04/2016 16:19:04   \n",
       "3  8.679512e+11        5642828      F  29/04/2016 17:29:31   \n",
       "4  8.841186e+12        5642494      F  29/04/2016 16:07:23   \n",
       "\n",
       "        APPOINTMENTDAY  AGE      NEIGHBOURHOOD  SCHOLARSHIP  HIPERTENSION  \\\n",
       "0  29/04/2016 00:00:00   62    JARDIM DA PENHA            0             1   \n",
       "1  29/04/2016 00:00:00   56    JARDIM DA PENHA            0             0   \n",
       "2  29/04/2016 00:00:00   62      MATA DA PRAIA            0             0   \n",
       "3  29/04/2016 00:00:00    8  PONTAL DE CAMBURI            0             0   \n",
       "4  29/04/2016 00:00:00   56    JARDIM DA PENHA            0             1   \n",
       "\n",
       "   DIABETES  ALCOHOLISM  HANDCAP  SMS_RECEIVED  NO-SHOW  \n",
       "0         0           0        0             0        0  \n",
       "1         0           0        0             0        0  \n",
       "2         0           0        0             0        0  \n",
       "3         0           0        0             0        0  \n",
       "4         1           0        0             0        0  "
      ]
     },
     "execution_count": 25,
     "metadata": {},
     "output_type": "execute_result"
    }
   ],
   "source": [
    "df_med.head()"
   ]
  },
  {
   "cell_type": "markdown",
   "id": "c6cb69ad",
   "metadata": {},
   "source": [
    "### Tratamento de dados"
   ]
  },
  {
   "cell_type": "code",
   "execution_count": 20,
   "id": "abe4cae0",
   "metadata": {},
   "outputs": [],
   "source": [
    "df_med_raw = pd.read_csv(\"01. Dataset - Medical Appointment No Shows/raw/medical_appointments.csv\")\n",
    "df_med = df_med_raw"
   ]
  },
  {
   "cell_type": "code",
   "execution_count": 21,
   "id": "eaf9fb47",
   "metadata": {},
   "outputs": [],
   "source": [
    "df_med = padronizar_data_hora(df_med, 'ScheduledDay')\n",
    "df_med = padronizar_data_hora(df_med, 'AppointmentDay')\n"
   ]
  },
  {
   "cell_type": "code",
   "execution_count": 22,
   "id": "94132af5",
   "metadata": {},
   "outputs": [],
   "source": [
    "df_med = padronizar_colunas(df_med)"
   ]
  },
  {
   "cell_type": "code",
   "execution_count": 23,
   "id": "cfc4be46",
   "metadata": {},
   "outputs": [],
   "source": [
    "df_med = converter_para_binario(df_med, 'NO-SHOW')"
   ]
  },
  {
   "cell_type": "code",
   "execution_count": 24,
   "id": "75b21117",
   "metadata": {},
   "outputs": [],
   "source": [
    "df_med = remover_acentos(df_med, 'NEIGHBOURHOOD')"
   ]
  },
  {
   "cell_type": "code",
   "execution_count": 29,
   "id": "20eb83a3",
   "metadata": {},
   "outputs": [],
   "source": [
    "df_med_trusted = df_med\n",
    "df_med_trusted.to_csv('01. Dataset - Medical Appointment No Shows/trusted/medical_appointment_no_show.csv')"
   ]
  },
  {
   "cell_type": "code",
   "execution_count": null,
   "id": "7aad8ae1",
   "metadata": {},
   "outputs": [],
   "source": []
  }
 ],
 "metadata": {
  "kernelspec": {
   "display_name": "teste1",
   "language": "python",
   "name": "python3"
  },
  "language_info": {
   "codemirror_mode": {
    "name": "ipython",
    "version": 3
   },
   "file_extension": ".py",
   "mimetype": "text/x-python",
   "name": "python",
   "nbconvert_exporter": "python",
   "pygments_lexer": "ipython3",
   "version": "3.8.19"
  }
 },
 "nbformat": 4,
 "nbformat_minor": 5
}
