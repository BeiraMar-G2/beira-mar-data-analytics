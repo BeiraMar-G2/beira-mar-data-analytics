{
 "cells": [
  {
   "cell_type": "code",
   "execution_count": 30,
   "id": "c7e5d637",
   "metadata": {},
   "outputs": [],
   "source": [
    "import pandas as pd\n",
    "import unicodedata"
   ]
  },
  {
   "cell_type": "markdown",
   "id": "a9ca4bac",
   "metadata": {},
   "source": [
    "### Sumário de padrões para tratamento de dados:\n",
    "\n",
    "- Data: DD/MM/YYYY\n",
    "\n",
    "- Data hora: DD/MM/YYYY HH:MM:SS\n",
    "\n",
    "- Binário: 0 ou 1\n",
    "\n",
    "- Strings e colunas: Maiusculas e com acento: \n",
    "\n",
    "- Espaços: Manter apenas um espaço no intervalo entre palavras\n",
    "\n",
    "- Sexo: M e F\n",
    "\n",
    "- Delimitador: Vírgula\n"
   ]
  },
  {
   "cell_type": "markdown",
   "id": "943c612e",
   "metadata": {},
   "source": [
    "### Funções para padronização:"
   ]
  },
  {
   "cell_type": "code",
   "execution_count": null,
   "id": "c2eb4b42",
   "metadata": {},
   "outputs": [],
   "source": [
    "# Formato em 2016-04-29T18:38:08Z\n",
    "def padronizar_data_hora(df, coluna):\n",
    "\n",
    "  df[coluna] = pd.to_datetime(df[coluna])\n",
    "  \n",
    "  df[coluna] = df[coluna].dt.strftime('%d/%m/%Y %H:%M:%S')\n",
    "  \n",
    "  return df\n"
   ]
  },
  {
   "cell_type": "code",
   "execution_count": 64,
   "id": "c693db11",
   "metadata": {},
   "outputs": [],
   "source": [
    "#Formato em MM/DD/AA\n",
    "def padronizar_data(df, coluna):\n",
    "\n",
    "  df[coluna] = pd.to_datetime(df[coluna], format='%m/%d/%Y')\n",
    "  \n",
    "  df[coluna] = df[coluna].dt.strftime('%d/%m/%Y')\n",
    "  \n",
    "  return df"
   ]
  },
  {
   "cell_type": "code",
   "execution_count": 32,
   "id": "d311cf12",
   "metadata": {},
   "outputs": [],
   "source": [
    "def padronizar_colunas(df):\n",
    "\n",
    "    df.columns = df.columns.str.upper()\n",
    "    \n",
    "    return df"
   ]
  },
  {
   "cell_type": "code",
   "execution_count": 33,
   "id": "fe48748d",
   "metadata": {},
   "outputs": [],
   "source": [
    "def converter_para_binario(df, coluna):\n",
    "    mapeamento = {'Yes': 1, 'No': 0}\n",
    "    df[coluna].replace(mapeamento, inplace=True)\n",
    "    return df"
   ]
  },
  {
   "cell_type": "code",
   "execution_count": 71,
   "id": "561dbed7",
   "metadata": {},
   "outputs": [],
   "source": [
    "def remover_acentos(df):\n",
    "    for coluna in df.columns:\n",
    "        if df[coluna].dtype == 'object':\n",
    "            df[coluna] = df[coluna].astype(str).str.normalize('NFKD').str.encode('ascii', errors='ignore').str.decode('utf-8')\n",
    "    return df\n"
   ]
  },
  {
   "cell_type": "code",
   "execution_count": 74,
   "id": "7304b77e",
   "metadata": {},
   "outputs": [],
   "source": [
    "def padronizar_maiusculo(df):\n",
    "    for coluna in df.columns:\n",
    "        if df[coluna].dtype == 'object':\n",
    "            df[coluna] = df[coluna].astype(str).str.upper()\n",
    "    return df"
   ]
  },
  {
   "cell_type": "code",
   "execution_count": 59,
   "id": "3daae651",
   "metadata": {},
   "outputs": [
    {
     "data": {
      "application/vnd.microsoft.datawrangler.viewer.v0+json": {
       "columns": [
        {
         "name": "index",
         "rawType": "int64",
         "type": "integer"
        },
        {
         "name": "PatientId",
         "rawType": "float64",
         "type": "float"
        },
        {
         "name": "AppointmentID",
         "rawType": "int64",
         "type": "integer"
        },
        {
         "name": "Gender",
         "rawType": "object",
         "type": "string"
        },
        {
         "name": "ScheduledDay",
         "rawType": "object",
         "type": "string"
        },
        {
         "name": "AppointmentDay",
         "rawType": "object",
         "type": "string"
        },
        {
         "name": "Age",
         "rawType": "int64",
         "type": "integer"
        },
        {
         "name": "Neighbourhood",
         "rawType": "object",
         "type": "string"
        },
        {
         "name": "Scholarship",
         "rawType": "int64",
         "type": "integer"
        },
        {
         "name": "Hipertension",
         "rawType": "int64",
         "type": "integer"
        },
        {
         "name": "Diabetes",
         "rawType": "int64",
         "type": "integer"
        },
        {
         "name": "Alcoholism",
         "rawType": "int64",
         "type": "integer"
        },
        {
         "name": "Handcap",
         "rawType": "int64",
         "type": "integer"
        },
        {
         "name": "SMS_received",
         "rawType": "int64",
         "type": "integer"
        },
        {
         "name": "No-show",
         "rawType": "object",
         "type": "string"
        }
       ],
       "ref": "260dd3fe-18de-4f2b-b7a4-2fd0f877d858",
       "rows": [
        [
         "0",
         "29872499824296.0",
         "5642903",
         "F",
         "2016-04-29T18:38:08Z",
         "2016-04-29T00:00:00Z",
         "62",
         "JARDIM DA PENHA",
         "0",
         "1",
         "0",
         "0",
         "0",
         "0",
         "No"
        ],
        [
         "1",
         "558997776694438.0",
         "5642503",
         "M",
         "2016-04-29T16:08:27Z",
         "2016-04-29T00:00:00Z",
         "56",
         "JARDIM DA PENHA",
         "0",
         "0",
         "0",
         "0",
         "0",
         "0",
         "No"
        ],
        [
         "2",
         "4262962299951.0",
         "5642549",
         "F",
         "2016-04-29T16:19:04Z",
         "2016-04-29T00:00:00Z",
         "62",
         "MATA DA PRAIA",
         "0",
         "0",
         "0",
         "0",
         "0",
         "0",
         "No"
        ],
        [
         "3",
         "867951213174.0",
         "5642828",
         "F",
         "2016-04-29T17:29:31Z",
         "2016-04-29T00:00:00Z",
         "8",
         "PONTAL DE CAMBURI",
         "0",
         "0",
         "0",
         "0",
         "0",
         "0",
         "No"
        ],
        [
         "4",
         "8841186448183.0",
         "5642494",
         "F",
         "2016-04-29T16:07:23Z",
         "2016-04-29T00:00:00Z",
         "56",
         "JARDIM DA PENHA",
         "0",
         "1",
         "1",
         "0",
         "0",
         "0",
         "No"
        ]
       ],
       "shape": {
        "columns": 14,
        "rows": 5
       }
      },
      "text/html": [
       "<div>\n",
       "<style scoped>\n",
       "    .dataframe tbody tr th:only-of-type {\n",
       "        vertical-align: middle;\n",
       "    }\n",
       "\n",
       "    .dataframe tbody tr th {\n",
       "        vertical-align: top;\n",
       "    }\n",
       "\n",
       "    .dataframe thead th {\n",
       "        text-align: right;\n",
       "    }\n",
       "</style>\n",
       "<table border=\"1\" class=\"dataframe\">\n",
       "  <thead>\n",
       "    <tr style=\"text-align: right;\">\n",
       "      <th></th>\n",
       "      <th>PatientId</th>\n",
       "      <th>AppointmentID</th>\n",
       "      <th>Gender</th>\n",
       "      <th>ScheduledDay</th>\n",
       "      <th>AppointmentDay</th>\n",
       "      <th>Age</th>\n",
       "      <th>Neighbourhood</th>\n",
       "      <th>Scholarship</th>\n",
       "      <th>Hipertension</th>\n",
       "      <th>Diabetes</th>\n",
       "      <th>Alcoholism</th>\n",
       "      <th>Handcap</th>\n",
       "      <th>SMS_received</th>\n",
       "      <th>No-show</th>\n",
       "    </tr>\n",
       "  </thead>\n",
       "  <tbody>\n",
       "    <tr>\n",
       "      <th>0</th>\n",
       "      <td>2.987250e+13</td>\n",
       "      <td>5642903</td>\n",
       "      <td>F</td>\n",
       "      <td>2016-04-29T18:38:08Z</td>\n",
       "      <td>2016-04-29T00:00:00Z</td>\n",
       "      <td>62</td>\n",
       "      <td>JARDIM DA PENHA</td>\n",
       "      <td>0</td>\n",
       "      <td>1</td>\n",
       "      <td>0</td>\n",
       "      <td>0</td>\n",
       "      <td>0</td>\n",
       "      <td>0</td>\n",
       "      <td>No</td>\n",
       "    </tr>\n",
       "    <tr>\n",
       "      <th>1</th>\n",
       "      <td>5.589978e+14</td>\n",
       "      <td>5642503</td>\n",
       "      <td>M</td>\n",
       "      <td>2016-04-29T16:08:27Z</td>\n",
       "      <td>2016-04-29T00:00:00Z</td>\n",
       "      <td>56</td>\n",
       "      <td>JARDIM DA PENHA</td>\n",
       "      <td>0</td>\n",
       "      <td>0</td>\n",
       "      <td>0</td>\n",
       "      <td>0</td>\n",
       "      <td>0</td>\n",
       "      <td>0</td>\n",
       "      <td>No</td>\n",
       "    </tr>\n",
       "    <tr>\n",
       "      <th>2</th>\n",
       "      <td>4.262962e+12</td>\n",
       "      <td>5642549</td>\n",
       "      <td>F</td>\n",
       "      <td>2016-04-29T16:19:04Z</td>\n",
       "      <td>2016-04-29T00:00:00Z</td>\n",
       "      <td>62</td>\n",
       "      <td>MATA DA PRAIA</td>\n",
       "      <td>0</td>\n",
       "      <td>0</td>\n",
       "      <td>0</td>\n",
       "      <td>0</td>\n",
       "      <td>0</td>\n",
       "      <td>0</td>\n",
       "      <td>No</td>\n",
       "    </tr>\n",
       "    <tr>\n",
       "      <th>3</th>\n",
       "      <td>8.679512e+11</td>\n",
       "      <td>5642828</td>\n",
       "      <td>F</td>\n",
       "      <td>2016-04-29T17:29:31Z</td>\n",
       "      <td>2016-04-29T00:00:00Z</td>\n",
       "      <td>8</td>\n",
       "      <td>PONTAL DE CAMBURI</td>\n",
       "      <td>0</td>\n",
       "      <td>0</td>\n",
       "      <td>0</td>\n",
       "      <td>0</td>\n",
       "      <td>0</td>\n",
       "      <td>0</td>\n",
       "      <td>No</td>\n",
       "    </tr>\n",
       "    <tr>\n",
       "      <th>4</th>\n",
       "      <td>8.841186e+12</td>\n",
       "      <td>5642494</td>\n",
       "      <td>F</td>\n",
       "      <td>2016-04-29T16:07:23Z</td>\n",
       "      <td>2016-04-29T00:00:00Z</td>\n",
       "      <td>56</td>\n",
       "      <td>JARDIM DA PENHA</td>\n",
       "      <td>0</td>\n",
       "      <td>1</td>\n",
       "      <td>1</td>\n",
       "      <td>0</td>\n",
       "      <td>0</td>\n",
       "      <td>0</td>\n",
       "      <td>No</td>\n",
       "    </tr>\n",
       "  </tbody>\n",
       "</table>\n",
       "</div>"
      ],
      "text/plain": [
       "      PatientId  AppointmentID Gender          ScheduledDay  \\\n",
       "0  2.987250e+13        5642903      F  2016-04-29T18:38:08Z   \n",
       "1  5.589978e+14        5642503      M  2016-04-29T16:08:27Z   \n",
       "2  4.262962e+12        5642549      F  2016-04-29T16:19:04Z   \n",
       "3  8.679512e+11        5642828      F  2016-04-29T17:29:31Z   \n",
       "4  8.841186e+12        5642494      F  2016-04-29T16:07:23Z   \n",
       "\n",
       "         AppointmentDay  Age      Neighbourhood  Scholarship  Hipertension  \\\n",
       "0  2016-04-29T00:00:00Z   62    JARDIM DA PENHA            0             1   \n",
       "1  2016-04-29T00:00:00Z   56    JARDIM DA PENHA            0             0   \n",
       "2  2016-04-29T00:00:00Z   62      MATA DA PRAIA            0             0   \n",
       "3  2016-04-29T00:00:00Z    8  PONTAL DE CAMBURI            0             0   \n",
       "4  2016-04-29T00:00:00Z   56    JARDIM DA PENHA            0             1   \n",
       "\n",
       "   Diabetes  Alcoholism  Handcap  SMS_received No-show  \n",
       "0         0           0        0             0      No  \n",
       "1         0           0        0             0      No  \n",
       "2         0           0        0             0      No  \n",
       "3         0           0        0             0      No  \n",
       "4         1           0        0             0      No  "
      ]
     },
     "execution_count": 59,
     "metadata": {},
     "output_type": "execute_result"
    }
   ],
   "source": [
    "df_med.head()"
   ]
  },
  {
   "cell_type": "code",
   "execution_count": 70,
   "id": "dab13f1d",
   "metadata": {},
   "outputs": [
    {
     "data": {
      "application/vnd.microsoft.datawrangler.viewer.v0+json": {
       "columns": [
        {
         "name": "index",
         "rawType": "int64",
         "type": "integer"
        },
        {
         "name": "CANCEL DATE",
         "rawType": "object",
         "type": "string"
        },
        {
         "name": "CODE",
         "rawType": "object",
         "type": "string"
        },
        {
         "name": "SERVICE",
         "rawType": "object",
         "type": "string"
        },
        {
         "name": "STAFF",
         "rawType": "object",
         "type": "string"
        },
        {
         "name": "BOOKING DATE",
         "rawType": "object",
         "type": "string"
        },
        {
         "name": "CANCELED BY",
         "rawType": "object",
         "type": "string"
        },
        {
         "name": "DAYS",
         "rawType": "float64",
         "type": "float"
        }
       ],
       "ref": "a04f1a9c-25af-4b7c-b281-dfbab0b6b873",
       "rows": [
        [
         "0",
         "22/05/2018",
         "MASA01",
         "CFC",
         "JOANNE",
         "24/05/2018",
         "ADMIN",
         "2.0"
        ],
        [
         "1",
         "27/06/2018",
         "MASA01",
         "CBAL",
         "KELLY",
         "27/06/2018",
         "ADMIN",
         "0.0"
        ],
        [
         "2",
         "03/07/2018",
         "MASA01",
         "SHCM",
         "BECKY",
         "10/07/2018",
         "BECKY",
         "7.0"
        ],
        [
         "3",
         "10/07/2018",
         "MASA01",
         "SHCC",
         "JJ",
         "11/07/2018",
         "KELLY",
         "1.0"
        ],
        [
         "4",
         "24/07/2018",
         "TRUA01",
         "SHCM",
         "KELLY",
         "24/07/2018",
         "TANYA",
         "0.0"
        ]
       ],
       "shape": {
        "columns": 7,
        "rows": 5
       }
      },
      "text/html": [
       "<div>\n",
       "<style scoped>\n",
       "    .dataframe tbody tr th:only-of-type {\n",
       "        vertical-align: middle;\n",
       "    }\n",
       "\n",
       "    .dataframe tbody tr th {\n",
       "        vertical-align: top;\n",
       "    }\n",
       "\n",
       "    .dataframe thead th {\n",
       "        text-align: right;\n",
       "    }\n",
       "</style>\n",
       "<table border=\"1\" class=\"dataframe\">\n",
       "  <thead>\n",
       "    <tr style=\"text-align: right;\">\n",
       "      <th></th>\n",
       "      <th>CANCEL DATE</th>\n",
       "      <th>CODE</th>\n",
       "      <th>SERVICE</th>\n",
       "      <th>STAFF</th>\n",
       "      <th>BOOKING DATE</th>\n",
       "      <th>CANCELED BY</th>\n",
       "      <th>DAYS</th>\n",
       "    </tr>\n",
       "  </thead>\n",
       "  <tbody>\n",
       "    <tr>\n",
       "      <th>0</th>\n",
       "      <td>22/05/2018</td>\n",
       "      <td>MASA01</td>\n",
       "      <td>CFC</td>\n",
       "      <td>JOANNE</td>\n",
       "      <td>24/05/2018</td>\n",
       "      <td>ADMIN</td>\n",
       "      <td>2.0</td>\n",
       "    </tr>\n",
       "    <tr>\n",
       "      <th>1</th>\n",
       "      <td>27/06/2018</td>\n",
       "      <td>MASA01</td>\n",
       "      <td>CBAL</td>\n",
       "      <td>KELLY</td>\n",
       "      <td>27/06/2018</td>\n",
       "      <td>ADMIN</td>\n",
       "      <td>0.0</td>\n",
       "    </tr>\n",
       "    <tr>\n",
       "      <th>2</th>\n",
       "      <td>03/07/2018</td>\n",
       "      <td>MASA01</td>\n",
       "      <td>SHCM</td>\n",
       "      <td>BECKY</td>\n",
       "      <td>10/07/2018</td>\n",
       "      <td>BECKY</td>\n",
       "      <td>7.0</td>\n",
       "    </tr>\n",
       "    <tr>\n",
       "      <th>3</th>\n",
       "      <td>10/07/2018</td>\n",
       "      <td>MASA01</td>\n",
       "      <td>SHCC</td>\n",
       "      <td>JJ</td>\n",
       "      <td>11/07/2018</td>\n",
       "      <td>KELLY</td>\n",
       "      <td>1.0</td>\n",
       "    </tr>\n",
       "    <tr>\n",
       "      <th>4</th>\n",
       "      <td>24/07/2018</td>\n",
       "      <td>TRUA01</td>\n",
       "      <td>SHCM</td>\n",
       "      <td>KELLY</td>\n",
       "      <td>24/07/2018</td>\n",
       "      <td>TANYA</td>\n",
       "      <td>0.0</td>\n",
       "    </tr>\n",
       "  </tbody>\n",
       "</table>\n",
       "</div>"
      ],
      "text/plain": [
       "  CANCEL DATE    CODE SERVICE   STAFF BOOKING DATE CANCELED BY  DAYS\n",
       "0  22/05/2018  MASA01     CFC  JOANNE   24/05/2018       ADMIN   2.0\n",
       "1  27/06/2018  MASA01    CBAL   KELLY   27/06/2018       ADMIN   0.0\n",
       "2  03/07/2018  MASA01    SHCM   BECKY   10/07/2018       BECKY   7.0\n",
       "3  10/07/2018  MASA01    SHCC      JJ   11/07/2018       KELLY   1.0\n",
       "4  24/07/2018  TRUA01    SHCM   KELLY   24/07/2018       TANYA   0.0"
      ]
     },
     "execution_count": 70,
     "metadata": {},
     "output_type": "execute_result"
    }
   ],
   "source": [
    "df_HairSalon.head()"
   ]
  },
  {
   "cell_type": "markdown",
   "id": "c6cb69ad",
   "metadata": {},
   "source": [
    "### Tratamento de dados"
   ]
  },
  {
   "cell_type": "code",
   "execution_count": 76,
   "id": "abe4cae0",
   "metadata": {},
   "outputs": [],
   "source": [
    "df_med_raw = pd.read_csv(\"01. Dataset - Medical Appointment No Shows/raw/medical_appointments.csv\")\n"
   ]
  },
  {
   "cell_type": "code",
   "execution_count": 77,
   "id": "ddcffb01",
   "metadata": {},
   "outputs": [],
   "source": [
    "df_med = df_med_raw"
   ]
  },
  {
   "cell_type": "code",
   "execution_count": 78,
   "id": "eaf9fb47",
   "metadata": {},
   "outputs": [],
   "source": [
    "df_med = padronizar_data_hora(df_med, 'ScheduledDay')\n",
    "df_med = padronizar_data_hora(df_med, 'AppointmentDay')\n",
    "df_med = padronizar_colunas(df_med)\n",
    "df_med = converter_para_binario(df_med, 'NO-SHOW')\n",
    "df_med = remover_acentos(df_med)\n",
    "df_med = padronizar_maiusculo(df_med)"
   ]
  },
  {
   "cell_type": "code",
   "execution_count": 51,
   "id": "94132af5",
   "metadata": {},
   "outputs": [],
   "source": [
    "df_med_trusted = df_med\n",
    "df_med_trusted.to_csv('01. Dataset - Medical Appointment No Shows/trusted/medical_appointment_no_show.csv')"
   ]
  },
  {
   "cell_type": "code",
   "execution_count": 66,
   "id": "e24b403c",
   "metadata": {},
   "outputs": [],
   "source": [
    "df_HairSalon_row = pd.read_csv(\"02. Dataset - Hair Salon No-Show/raw/Client Cancellations0.csv\")\n",
    "df_HairSalon = df_HairSalon_row"
   ]
  },
  {
   "cell_type": "code",
   "execution_count": null,
   "id": "3a6da1cd",
   "metadata": {},
   "outputs": [],
   "source": [
    "df_HairSalon = padronizar_data(df_HairSalon,'Cancel Date' )\n",
    "df_HairSalon = padronizar_data(df_HairSalon,'Booking Date' )\n",
    "df_HairSalon = padronizar_colunas(df_HairSalon)\n",
    "df_HairSalon = padronizar_maiusculo(df_HairSalon)\n",
    "df_HairSalon = remover_acentos(df_HairSalon)"
   ]
  },
  {
   "cell_type": "code",
   "execution_count": 81,
   "id": "b3cd6250",
   "metadata": {},
   "outputs": [],
   "source": [
    "df_HairSalon_trusted = df_HairSalon\n",
    "df_med_trusted.to_csv('02. Dataset - Hair Salon No-Show/trusted/hair_salon_client_cancel.csv')"
   ]
  }
 ],
 "metadata": {
  "kernelspec": {
   "display_name": "teste1",
   "language": "python",
   "name": "python3"
  },
  "language_info": {
   "codemirror_mode": {
    "name": "ipython",
    "version": 3
   },
   "file_extension": ".py",
   "mimetype": "text/x-python",
   "name": "python",
   "nbconvert_exporter": "python",
   "pygments_lexer": "ipython3",
   "version": "3.8.19"
  }
 },
 "nbformat": 4,
 "nbformat_minor": 5
}
